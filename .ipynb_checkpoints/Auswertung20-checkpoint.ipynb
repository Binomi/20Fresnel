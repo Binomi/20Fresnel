{
 "metadata": {
  "name": "",
  "signature": "sha256:70145b2074117fd6bfe1de348da7e166cfd6642ddb2e64d3f5806c8403aa1ab0"
 },
 "nbformat": 3,
 "nbformat_minor": 0,
 "worksheets": [
  {
   "cells": [
    {
     "cell_type": "code",
     "collapsed": false,
     "input": [
      "import math\n",
      "import maabara as ma"
     ],
     "language": "python",
     "metadata": {},
     "outputs": [],
     "prompt_number": 1
    },
    {
     "cell_type": "code",
     "collapsed": false,
     "input": [
      "#Brewsterwinkel\n",
      "#Felix\tMichael\n",
      "mess1=[64.7,68.5,63.4,67.4,67.8,66.4]\n",
      "#Polarisator 5^\\circ gedreht\t\n",
      "mess2=[65.9,66.8,67.9,67.3]\n",
      "\n",
      "mess=mess1+mess2"
     ],
     "language": "python",
     "metadata": {},
     "outputs": [],
     "prompt_number": 6
    },
    {
     "cell_type": "code",
     "collapsed": false,
     "input": [
      "print ma.student_t(mess)\n",
      "print ma.student_t(mess1)\n",
      "print ma.student_t(mess2)"
     ],
     "language": "python",
     "metadata": {},
     "outputs": [
      {
       "output_type": "stream",
       "stream": "stdout",
       "text": [
        "(66.609999999999985, 0.52750903520434833)\n",
        "(66.366666666666674, 0.84917696101054907)\n",
        "(66.974999999999994, 0.48648987228238683)\n"
       ]
      }
     ],
     "prompt_number": 11
    },
    {
     "cell_type": "code",
     "collapsed": false,
     "input": [
      "felix=[]\n",
      "michael=[]\n",
      "for i in range(len(mess)):\n",
      "    if i%2==0:\n",
      "        felix.append(mess[i])\n",
      "    else:\n",
      "        michael.append(mess[i])\n",
      "print ma.student_t(michael)\n",
      "print ma.student_t(felix)"
     ],
     "language": "python",
     "metadata": {},
     "outputs": [
      {
       "output_type": "stream",
       "stream": "stdout",
       "text": [
        "(67.280000000000001, 0.4072364178213923)\n",
        "(65.939999999999984, 1.0055762029801623)\n"
       ]
      }
     ],
     "prompt_number": 12
    }
   ],
   "metadata": {}
  }
 ]
}